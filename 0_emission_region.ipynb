{
 "cells": [
  {
   "cell_type": "markdown",
   "id": "e2c33915",
   "metadata": {},
   "source": [
    "# 0. Emission region\n",
    "\n",
    "The emission region is the essential component of all the radiative processes.  \n",
    "The only emission region currently considered in `agnpy` is a spherical plasmoid.    "
   ]
  },
  {
   "cell_type": "code",
   "execution_count": 1,
   "id": "b0ba30ab",
   "metadata": {},
   "outputs": [],
   "source": [
    "import astropy.units as u\n",
    "from astropy.coordinates import Distance\n",
    "from agnpy.emission_regions import Blob\n",
    "from agnpy.utils.plot import load_mpl_rc\n",
    "import matplotlib.pyplot as plt"
   ]
  },
  {
   "cell_type": "code",
   "execution_count": 2,
   "id": "3199ec7c",
   "metadata": {},
   "outputs": [],
   "source": [
    "# set the spectrum normalisation (total energy in electrons in this case)\n",
    "spectrum_norm = 1e48 * u.Unit(\"erg\")\n",
    "\n",
    "spectrum_pars = {\"p\": 2.8, \"gamma_min\": 1e2, \"gamma_max\": 1e7}\n",
    "# define the spectral function parametrisation through a dictionary\n",
    "spectrum_dict = {\"type\": \"PowerLaw\", \"parameters\": spectrum_pars}\n",
    "\n",
    "# set the remaining quantities defining the blob\n",
    "R_b = 1e16 * u.cm\n",
    "B = 1 * u.G\n",
    "z = Distance(1e27, unit=u.cm).z\n",
    "delta_D = 10\n",
    "Gamma = 10\n",
    "\n",
    "blob = Blob(R_b, z, delta_D, Gamma, B, spectrum_norm, spectrum_dict)"
   ]
  },
  {
   "cell_type": "code",
   "execution_count": 3,
   "id": "14158603",
   "metadata": {},
   "outputs": [
    {
     "name": "stdout",
     "output_type": "stream",
     "text": [
      "* spherical emission region\n",
      " - R_b (radius of the blob): 1.00e+16 cm\n",
      " - V_b (volume of the blob): 4.19e+48 cm3\n",
      " - z (source redshift): 0.07\n",
      " - d_L (source luminosity distance):1.00e+27 cm\n",
      " - delta_D (blob Doppler factor): 1.00e+01\n",
      " - Gamma (blob Lorentz factor): 1.00e+01\n",
      " - Beta (blob relativistic velocity): 9.95e-01\n",
      " - theta_s (jet viewing angle): 5.74e+00 deg\n",
      " - B (magnetic field tangled to the jet): 1.00e+00 G\n",
      " - xi (coefficient for 1st order Fermi acceleration) : 1.00e+00\n",
      "* electron spectrum\n",
      " - power law\n",
      " - k_e: 9.27e+06 1 / cm3\n",
      " - p: 2.80\n",
      " - gamma_min: 1.00e+02\n",
      " - gamma_max: 1.00e+07\n"
     ]
    }
   ],
   "source": [
    "print(blob)"
   ]
  },
  {
   "cell_type": "code",
   "execution_count": 4,
   "id": "f916c879",
   "metadata": {},
   "outputs": [
    {
     "data": {
      "image/png": "[encoded data removed]",
      "text/plain": [
       "<Figure size 432x288 with 1 Axes>"
      ]
     },
     "metadata": {
      "needs_background": "light"
     },
     "output_type": "display_data"
    }
   ],
   "source": [
    "# plot the electron distribution\n",
    "blob.plot_n_e(gamma_power=2)\n",
    "plt.show()"
   ]
  },
  {
   "cell_type": "code",
   "execution_count": 5,
   "id": "f42e3968",
   "metadata": {},
   "outputs": [
    {
     "data": {
      "text/latex": [
       "$5.4376042 \\times 10^{51} \\; \\mathrm{}$"
      ],
      "text/plain": [
       "<Quantity 5.43760421e+51>"
      ]
     },
     "execution_count": 5,
     "metadata": {},
     "output_type": "execute_result"
    }
   ],
   "source": [
    "blob.N_e_tot"
   ]
  },
  {
   "cell_type": "code",
   "execution_count": 6,
   "id": "e3fc7032",
   "metadata": {},
   "outputs": [
    {
     "data": {
      "text/latex": [
       "$1298.1324 \\; \\mathrm{\\frac{1}{cm^{3}}}$"
      ],
      "text/plain": [
       "<Quantity 1298.13238394 1 / cm3>"
      ]
     },
     "execution_count": 6,
     "metadata": {},
     "output_type": "execute_result"
    }
   ],
   "source": [
    "blob.n_e_tot"
   ]
  },
  {
   "cell_type": "code",
   "execution_count": 7,
   "id": "563d9c1b",
   "metadata": {},
   "outputs": [
    {
     "data": {
      "text/latex": [
       "$4.4743459 \\times 10^{44} \\; \\mathrm{\\frac{erg}{s}}$"
      ],
      "text/plain": [
       "<Quantity 4.47434594e+44 erg / s>"
      ]
     },
     "execution_count": 7,
     "metadata": {},
     "output_type": "execute_result"
    }
   ],
   "source": [
    "blob.P_jet_e"
   ]
  },
  {
   "cell_type": "code",
   "execution_count": 8,
   "id": "1ee45a2f",
   "metadata": {},
   "outputs": [
    {
     "data": {
      "text/latex": [
       "$7.4572432 \\times 10^{43} \\; \\mathrm{\\frac{erg}{s}}$"
      ],
      "text/plain": [
       "<Quantity 7.45724324e+43 erg / s>"
      ]
     },
     "execution_count": 8,
     "metadata": {},
     "output_type": "execute_result"
    }
   ],
   "source": [
    "blob.P_jet_B"
   ]
  },
  {
   "cell_type": "markdown",
   "id": "237a5bd2",
   "metadata": {},
   "source": [
    "Try different normalisations"
   ]
  },
  {
   "cell_type": "code",
   "execution_count": 9,
   "id": "e175b098",
   "metadata": {},
   "outputs": [],
   "source": [
    "# set the spectrum normalisation (total energy in electrons in this case)\n",
    "spectrum_norm = 1e2 * u.Unit(\"cm-3\")\n",
    "\n",
    "spectrum_pars = {\n",
    "    \"p\": 2.3,\n",
    "    \"q\": 0.1,\n",
    "    \"gamma_0\": 1e4,\n",
    "    \"gamma_min\": 10,\n",
    "    \"gamma_max\": 1e7,\n",
    "}\n",
    "\n",
    "spectrum_dict = {\"type\": \"LogParabola\", \"parameters\": spectrum_pars}"
   ]
  },
  {
   "cell_type": "code",
   "execution_count": 10,
   "id": "e9729e01",
   "metadata": {},
   "outputs": [],
   "source": [
    "blob_norm_diff = Blob(\n",
    "    R_b, \n",
    "    z, \n",
    "    delta_D, \n",
    "    Gamma, \n",
    "    B, \n",
    "    spectrum_norm, \n",
    "    spectrum_dict, \n",
    "    spectrum_norm_type=\"differential\"\n",
    ")\n",
    "blob_norm_int = Blob(\n",
    "    R_b, \n",
    "    z, \n",
    "    delta_D, \n",
    "    Gamma, \n",
    "    B, \n",
    "    spectrum_norm, \n",
    "    spectrum_dict, \n",
    "    spectrum_norm_type=\"integral\"\n",
    ")"
   ]
  },
  {
   "cell_type": "code",
   "execution_count": 11,
   "id": "51e64692",
   "metadata": {},
   "outputs": [
    {
     "data": {
      "image/png": "[encoded data removed]",
      "text/plain": [
       "<Figure size 432x288 with 1 Axes>"
      ]
     },
     "metadata": {
      "needs_background": "light"
     },
     "output_type": "display_data"
    }
   ],
   "source": [
    "blob_norm_diff.plot_n_e(label=\"diff. norm.\")\n",
    "blob_norm_int.plot_n_e(label=\"integral. norm.\", ls=\":\")\n",
    "plt.legend()\n",
    "plt.grid(ls=\":\")\n",
    "plt.show()"
   ]
  }
 ],
 "metadata": {
  "kernelspec": {
   "display_name": "Python 3 (ipykernel)",
   "language": "python",
   "name": "python3"
  },
  "language_info": {
   "codemirror_mode": {
    "name": "ipython",
    "version": 3
   },
   "file_extension": ".py",
   "mimetype": "text/x-python",
   "name": "python",
   "nbconvert_exporter": "python",
   "pygments_lexer": "ipython3",
   "version": "3.9.5"
  }
 },
 "nbformat": 4,
 "nbformat_minor": 5
}
